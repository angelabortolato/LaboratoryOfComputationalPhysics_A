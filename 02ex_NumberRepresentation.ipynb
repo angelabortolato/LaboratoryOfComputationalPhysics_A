{
 "cells": [
  {
   "cell_type": "markdown",
   "metadata": {},
   "source": [
    "1\\. Write a function that converts number representation, bin<->dec<->hex. (Clearly using the corresponding python built-in functions is not fair..)"
   ]
  },
  {
   "cell_type": "code",
   "execution_count": 13,
   "metadata": {},
   "outputs": [
    {
     "name": "stdout",
     "output_type": "stream",
     "text": [
      "Decimal representation: 15\n",
      "Binary representation: 1111\n",
      "Hex representation: F\n",
      "212\n",
      "701023\n"
     ]
    }
   ],
   "source": [
    "import numpy as np\n",
    "\n",
    "def decbinhex(x):           #from dec to bin/hex\n",
    "    numb=x\n",
    "    print('Decimal representation:', numb)\n",
    "    bbin=[]\n",
    "    while numb!=0:\n",
    "        bbin.append(numb%2)\n",
    "        numb=numb//2\n",
    "    bbin.reverse()\n",
    "    bins=''.join([str(i) for i in bbin])\n",
    "    print('Binary representation:', bins)\n",
    "    \n",
    "    numh=x\n",
    "    hhex=[]\n",
    "    while numh!=0:\n",
    "        if numh%16<10:\n",
    "            hhex.append(numh%16)\n",
    "        elif numh%16==10:\n",
    "            hhex.append('A')\n",
    "        elif numh%16==11:\n",
    "            hhex.append('B')\n",
    "        elif numh%16==12:\n",
    "            hhex.append('C')\n",
    "        elif numh%16==13:\n",
    "            hhex.append('D')\n",
    "        elif numh%16==14:\n",
    "            hhex.append('E')\n",
    "        elif numh%16==15:\n",
    "            hhex.append('F')    \n",
    "            \n",
    "        numh=numh//16\n",
    "    hhex.reverse()\n",
    "    hexs=''.join([str(i) for i in hhex])\n",
    "    print('Hex representation:', hexs)\n",
    "\n",
    "    return    \n",
    " \n",
    "decbinhex(15)\n",
    "\n",
    "def bindec(x):          #from binary string to decimal\n",
    "    bl=list(str(x))\n",
    "    bl.reverse()\n",
    "    dec=0\n",
    "    for i in range(len(bl)):\n",
    "        dec+=int(bl[i])*2**i\n",
    "    return dec\n",
    "\n",
    "print(bindec('11010100'))\n",
    "\n",
    "def hexdec(x):\n",
    "    hl=list(str(x))\n",
    "    hl.reverse()\n",
    "    dec=0\n",
    "    for i in range(len(hl)):\n",
    "        if hl[i]=='A':\n",
    "            dec+=10*16**i\n",
    "        elif hl[i]=='B':\n",
    "            dec+=11*16**i\n",
    "        elif hl[i]=='C':\n",
    "            dec+=12*16**i\n",
    "        elif hl[i]=='D':\n",
    "            dec+=13*16**i\n",
    "        elif hl[i]=='E':\n",
    "            dec+=14*16**i\n",
    "        elif hl[i]=='F':\n",
    "            dec+=15*16**i\n",
    "        else:   dec+=int(hl[i])*16**i\n",
    "    return dec \n",
    "\n",
    "print(hexdec('AB25F'))   "
   ]
  },
  {
   "cell_type": "markdown",
   "metadata": {},
   "source": [
    "2\\. Write a function that converts a 32 bit word into a single precision floating point (i.e. interprets the various bits as sign, mantissa and exponent)"
   ]
  },
  {
   "cell_type": "code",
   "execution_count": null,
   "metadata": {},
   "outputs": [
    {
     "name": "stdout",
     "output_type": "stream",
     "text": [
      "w: 00001000011010011101110101011110\n",
      "00111000011110111000101010001011 ['0', '0', '1', '1', '1', '0', '0', '0', '0', '1', '1', '1', '1', '0', '1', '1', '1', '0', '0', '0', '1', '0', '1', '0', '1', '0', '0', '0', '1', '0', '1', '1']\n",
      "1.9651654958724976\n",
      "5.997209154884331e-05\n"
     ]
    }
   ],
   "source": [
    "ws='00111000011110111000101010001011'\n",
    "wl=list(ws)\n",
    "\n",
    "print(ws, wl)\n",
    "\n",
    "s=wl[0]\n",
    "e=wl[1:9]\n",
    "m=wl[9:32]\n",
    "expb=''.join([str(i) for i in e])\n",
    "expd=int(expb, 2)\n",
    "\n",
    "mant=1\n",
    "for i in range(23):\n",
    "    mant+=int(m[i])/(2**(i+1))\n",
    "print(mant)\n",
    "\n",
    "num=(-1)**int(s)*2**(expd-127)*mant\n",
    "\n",
    "print(num)"
   ]
  },
  {
   "cell_type": "markdown",
   "metadata": {},
   "source": [
    "3\\. Write a program to determine the underflow and overflow limits (within a factor of 2) for python on your computer. \n",
    "\n",
    "**Tips**: define two variables inizialized to 1 and halve/double them enough time to exceed the under/over-flow limits  "
   ]
  },
  {
   "cell_type": "code",
   "execution_count": 8,
   "metadata": {},
   "outputs": [
    {
     "name": "stdout",
     "output_type": "stream",
     "text": [
      "Approximate overflow limit: 8.98846567431158e+307\n",
      "Approximate underflow limit: 5e-324\n"
     ]
    }
   ],
   "source": [
    "def find_overflow_limit():\n",
    "    value = 1.0\n",
    "    v=0\n",
    "    while value!=v:\n",
    "        v1=v\n",
    "        v=value\n",
    "        value *= 2  # Double the value repeatedly until reaches the overflow\n",
    "    return v1\n",
    "\n",
    "\n",
    "def find_underflow_limit():\n",
    "    value = 1.0\n",
    "    v=0\n",
    "    while value != v:  # Keep halving until underflow to zero\n",
    "        v1=v\n",
    "        v = value\n",
    "        value /= 2  # Halve the value repeatedly\n",
    "    return v1\n",
    "\n",
    "\n",
    "overflow_limit = find_overflow_limit()\n",
    "underflow_limit = find_underflow_limit()\n",
    "\n",
    "print(\"Approximate overflow limit:\", overflow_limit)\n",
    "print(\"Approximate underflow limit:\", underflow_limit)\n"
   ]
  },
  {
   "cell_type": "markdown",
   "metadata": {},
   "source": [
    "4\\. Write a program to determine the machine precision\n",
    "\n",
    "**Tips**: define a new variable by adding a smaller and smaller value (proceeding similarly to prob. 2) to an original variable and check the point where the two are the same "
   ]
  },
  {
   "cell_type": "code",
   "execution_count": 12,
   "metadata": {},
   "outputs": [
    {
     "data": {
      "text/plain": [
       "2.220446049250313e-16"
      ]
     },
     "execution_count": 12,
     "metadata": {},
     "output_type": "execute_result"
    }
   ],
   "source": [
    "def precision():\n",
    "    epsilon=1.\n",
    "    while (1+epsilon)!=1. :\n",
    "        epsilon/=2\n",
    "    epsilon*=2          #get back to last distinguishable term\n",
    "    return epsilon\n",
    "\n",
    "precision()"
   ]
  },
  {
   "cell_type": "markdown",
   "metadata": {},
   "source": [
    "5\\. Write a function that takes in input three parameters $a$, $b$ and $c$ and prints out the two solutions to the quadratic equation $ax^2+bx+c=0$ using the standard formula:\n",
    "$$\n",
    "x=\\frac{-b\\pm\\sqrt{b^2-4ac}}{2a}\n",
    "$$\n",
    "\n",
    "(a) use the program to compute the solution for $a=0.001$, $b=1000$ and $c=0.001$\n",
    "\n",
    "(b) re-express the standard solution formula by multiplying top and bottom by $-b\\mp\\sqrt{b^2-4ac}$ and again find the solution for $a=0.001$, $b=1000$ and $c=0.001$. How does it compare with what previously obtained? Why?\n",
    "\n",
    "(c) write a function that compute the roots of a quadratic equation accurately in all cases"
   ]
  },
  {
   "cell_type": "code",
   "execution_count": 7,
   "metadata": {},
   "outputs": [
    {
     "name": "stdout",
     "output_type": "stream",
     "text": [
      "(-9.999894245993346e-07, -999999.999999)\n",
      "(-1.000000000001e-06, -1000010.5755125057)\n",
      "as we can see first formula works well for second solution and bad for first solution,\n",
      "viceversa, second formula works well for first solution and bad for second\n",
      "We can combine this result:\n",
      "(-1.000000000001e-06, -999999.999999)\n"
     ]
    }
   ],
   "source": [
    "def stdformula(a, b, c):\n",
    "    x1=(-b+(b**2-4*a*c)**(1/2))/(2*a)\n",
    "    x2=(-b-(b**2-4*a*c)**(1/2))/(2*a)\n",
    "    return (x1, x2)\n",
    "\n",
    "print(stdformula(0.001,1000,0.001))\n",
    "\n",
    "def formula2(a, b, c):\n",
    "    x1=(2*c)/(-b-(b**2-4*a*c)**(1/2))\n",
    "    x2=(2*c)/(-b+(b**2-4*a*c)**(1/2))\n",
    "    return (x1,x2)\n",
    "\n",
    "print(formula2(0.001,1000,0.001))\n",
    "\n",
    "# the problem is that b is way grater than a and c\n",
    "\n",
    "print('as we can see first formula works well for second solution and bad for first solution,\\nviceversa, second formula works well for first solution and bad for second\\nWe can combine this result:')\n",
    "\n",
    "def quadroot(a,b,c):\n",
    "    if b>(a*c):\n",
    "        x1=(2*c)/(-b-(b**2-4*a*c)**(1/2))\n",
    "        x2=(-b-(b**2-4*a*c)**(1/2))/(2*a)\n",
    "    else:\n",
    "        x1=(-b+(b**2-4*a*c)**(1/2))/(2*a)\n",
    "        x2=(2*c)/(-b+(b**2-4*a*c)**(1/2))\n",
    "    return(x1,x2)\n",
    "\n",
    "print(quadroot(0.001,1000,0.001))"
   ]
  },
  {
   "cell_type": "markdown",
   "metadata": {},
   "source": [
    "6\\. Write a program that implements the function $f(x)=x(x−1)$\n",
    "\n",
    "(a) Calculate the derivative of the function at the point $x = 1$ using the derivative definition:\n",
    "\n",
    "$$\n",
    "\\frac{{\\rm d}f}{{\\rm d}x} = \\lim_{\\delta\\to0} \\frac{f(x+\\delta)-f(x)}{\\delta}\n",
    "$$\n",
    "\n",
    "with $\\delta = 10^{−2}$. Calculate the true value of the same derivative analytically and compare with the answer your program gives. The two will not agree perfectly. Why not?\n",
    "\n",
    "(b) Repeat the calculation for $\\delta = 10^{−4}, 10^{−6}, 10^{−8}, 10^{−10}, 10^{−12}$ and $10^{−14}$. How does the accuracy scales with $\\delta$?"
   ]
  },
  {
   "cell_type": "code",
   "execution_count": 11,
   "metadata": {},
   "outputs": [
    {
     "name": "stdout",
     "output_type": "stream",
     "text": [
      "1\n",
      "[(1.0000999999998899, -9.999999988985486e-05), (1.0000009999177333, -9.99917733279787e-07), (1.0000000039225287, -3.922528746258536e-09), (1.000000082840371, -8.284037100736441e-08), (1.0000889005833413, -8.890058334132256e-05), (0.9992007221626509, 0.0007992778373491216)]\n"
     ]
    }
   ],
   "source": [
    "def myfunc(x):\n",
    "    return x*(x-1)\n",
    "\n",
    "def dermyfunc(x):\n",
    "    return 2*x-1\n",
    "\n",
    "def der_def(func, x, delta):\n",
    "    return (func(x+delta)-func(x))/delta\n",
    "\n",
    "print(dermyfunc(1))\n",
    "print([(der_def(myfunc, 1, 10**i), dermyfunc(1)-der_def(myfunc, 1, 10**i)) for i in [-4, -6, -8, -10, -12, -14]])"
   ]
  },
  {
   "cell_type": "markdown",
   "metadata": {},
   "source": [
    "7\\. Consider the integral of the semicircle of radius 1:\n",
    "$$\n",
    "I=\\int_{-1}^{1} \\sqrt(1-x^2) {\\rm d}x\n",
    "$$\n",
    "which it's known to be $I=\\frac{\\pi}{2}=1.57079632679...$.\n",
    "Alternatively we can use the Riemann definition of the integral:\n",
    "$$\n",
    "I=\\lim_{N\\to\\infty} \\sum_{k=1}^{N} h y_k \n",
    "$$\n",
    "\n",
    "with $h=2/N$ the width of each of the $N$ slices the domain is divided into and where\n",
    "$y_k$ is the value of the function at the $k-$th slice.\n",
    "\n",
    "(a) Write a programe to compute the integral with $N=100$. How does the result compares to the true value?\n",
    "\n",
    "(b) How much can $N$ be increased if the computation needs to be run in less than a second? What is the gain in running it for 1 minute? \n"
   ]
  },
  {
   "cell_type": "code",
   "execution_count": null,
   "metadata": {},
   "outputs": [
    {
     "name": "stdout",
     "output_type": "stream",
     "text": [
      "1.5707963267948966\n"
     ]
    }
   ],
   "source": [
    "import cmath\n",
    "def myf(x):\n",
    "    return (1-x**2)**(1/2)\n",
    "\n",
    "print(cmath.pi/2)\n",
    "\n",
    "def Reimann(N, func, a, b):         #a and b are the extremes of integration domain\n",
    "    h=(b-a)/N\n",
    "    Irie=sum([h*func(a+k/N) for k in range(N)])\n",
    "    return Irie\n",
    "\n",
    "print([Reimann(10**n, myf, -1, 1) for n in range(2,8)])\n",
    "#%timeit Reimann(10**7, myf, -1, 1)\n",
    "#%timeit Reimann(10**8, myf, -1, 1)"
   ]
  }
 ],
 "metadata": {
  "kernelspec": {
   "display_name": "Python 3",
   "language": "python",
   "name": "python3"
  },
  "language_info": {
   "codemirror_mode": {
    "name": "ipython",
    "version": 3
   },
   "file_extension": ".py",
   "mimetype": "text/x-python",
   "name": "python",
   "nbconvert_exporter": "python",
   "pygments_lexer": "ipython3",
   "version": "3.6.8"
  }
 },
 "nbformat": 4,
 "nbformat_minor": 2
}
