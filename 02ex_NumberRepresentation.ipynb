{
 "cells": [
  {
   "cell_type": "markdown",
   "metadata": {},
   "source": [
    "1\\. Write a function that converts number representation, bin<->dec<->hex. (Clearly using the corresponding python built-in functions is not fair..)"
   ]
  },
  {
   "cell_type": "code",
   "execution_count": 13,
   "metadata": {},
   "outputs": [
    {
     "name": "stdout",
     "output_type": "stream",
     "text": [
      "Decimal representation: 15\n",
      "Binary representation: 1111\n",
      "Hex representation: F\n",
      "212\n",
      "701023\n"
     ]
    }
   ],
   "source": [
    "import numpy as np\n",
    "\n",
    "def decbinhex(x):           #from dec to bin/hex\n",
    "    numb=x\n",
    "    print('Decimal representation:', numb)\n",
    "    bbin=[]\n",
    "    while numb!=0:\n",
    "        bbin.append(numb%2)\n",
    "        numb=numb//2\n",
    "    bbin.reverse()\n",
    "    bins=''.join([str(i) for i in bbin])\n",
    "    print('Binary representation:', bins)\n",
    "    \n",
    "    numh=x\n",
    "    hhex=[]\n",
    "    while numh!=0:\n",
    "        if numh%16<10:\n",
    "            hhex.append(numh%16)\n",
    "        elif numh%16==10:\n",
    "            hhex.append('A')\n",
    "        elif numh%16==11:\n",
    "            hhex.append('B')\n",
    "        elif numh%16==12:\n",
    "            hhex.append('C')\n",
    "        elif numh%16==13:\n",
    "            hhex.append('D')\n",
    "        elif numh%16==14:\n",
    "            hhex.append('E')\n",
    "        elif numh%16==15:\n",
    "            hhex.append('F')    \n",
    "            \n",
    "        numh=numh//16\n",
    "    hhex.reverse()\n",
    "    hexs=''.join([str(i) for i in hhex])\n",
    "    print('Hex representation:', hexs)\n",
    "\n",
    "    return    \n",
    " \n",
    "decbinhex(15)\n",
    "\n",
    "def bindec(x):          #from binary string to decimal\n",
    "    bl=list(str(x))\n",
    "    bl.reverse()\n",
    "    dec=0\n",
    "    for i in range(len(bl)):\n",
    "        dec+=int(bl[i])*2**i\n",
    "    return dec\n",
    "\n",
    "print(bindec('11010100'))\n",
    "\n",
    "def hexdec(x):\n",
    "    hl=list(str(x))\n",
    "    hl.reverse()\n",
    "    dec=0\n",
    "    for i in range(len(hl)):\n",
    "        if hl[i]=='A':\n",
    "            dec+=10*16**i\n",
    "        elif hl[i]=='B':\n",
    "            dec+=11*16**i\n",
    "        elif hl[i]=='C':\n",
    "            dec+=12*16**i\n",
    "        elif hl[i]=='D':\n",
    "            dec+=13*16**i\n",
    "        elif hl[i]=='E':\n",
    "            dec+=14*16**i\n",
    "        elif hl[i]=='F':\n",
    "            dec+=15*16**i\n",
    "        else:   dec+=int(hl[i])*16**i\n",
    "    return dec \n",
    "\n",
    "print(hexdec('AB25F'))   "
   ]
  },
  {
   "cell_type": "markdown",
   "metadata": {},
   "source": [
    "2\\. Write a function that converts a 32 bit word into a single precision floating point (i.e. interprets the various bits as sign, mantissa and exponent)"
   ]
  },
  {
   "cell_type": "code",
   "execution_count": null,
   "metadata": {},
   "outputs": [
    {
     "name": "stdout",
     "output_type": "stream",
     "text": [
      "w: 00001000011010011101110101011110\n",
      "00111000011110111000101010001011 ['0', '0', '1', '1', '1', '0', '0', '0', '0', '1', '1', '1', '1', '0', '1', '1', '1', '0', '0', '0', '1', '0', '1', '0', '1', '0', '0', '0', '1', '0', '1', '1']\n",
      "1.9651654958724976\n",
      "5.997209154884331e-05\n"
     ]
    }
   ],
   "source": [
    "ws='00111000011110111000101010001011'\n",
    "wl=list(ws)\n",
    "\n",
    "print(ws, wl)\n",
    "\n",
    "s=wl[0]\n",
    "e=wl[1:9]\n",
    "m=wl[9:32]\n",
    "expb=''.join([str(i) for i in e])\n",
    "expd=int(expb, 2)\n",
    "\n",
    "mant=1\n",
    "for i in range(23):\n",
    "    mant+=int(m[i])/(2**(i+1))\n",
    "print(mant)\n",
    "\n",
    "num=(-1)**int(s)*2**(expd-127)*mant\n",
    "\n",
    "print(num)"
   ]
  },
  {
   "cell_type": "markdown",
   "metadata": {},
   "source": [
    "3\\. Write a program to determine the underflow and overflow limits (within a factor of 2) for python on your computer. \n",
    "\n",
    "**Tips**: define two variables inizialized to 1 and halve/double them enough time to exceed the under/over-flow limits  "
   ]
  },
  {
   "cell_type": "code",
   "execution_count": 5,
   "metadata": {},
   "outputs": [
    {
     "ename": "KeyboardInterrupt",
     "evalue": "",
     "output_type": "error",
     "traceback": [
      "\u001b[1;31m---------------------------------------------------------------------------\u001b[0m",
      "\u001b[1;31mKeyboardInterrupt\u001b[0m                         Traceback (most recent call last)",
      "Input \u001b[1;32mIn [5]\u001b[0m, in \u001b[0;36m<cell line: 19>\u001b[1;34m()\u001b[0m\n\u001b[0;32m     15\u001b[0m         value \u001b[38;5;241m/\u001b[39m\u001b[38;5;241m=\u001b[39m \u001b[38;5;241m2\u001b[39m  \u001b[38;5;66;03m# Halve the value repeatedly\u001b[39;00m\n\u001b[0;32m     16\u001b[0m     \u001b[38;5;28;01mreturn\u001b[39;00m prev_value\n\u001b[1;32m---> 19\u001b[0m overflow_limit \u001b[38;5;241m=\u001b[39m \u001b[43mfind_overflow_limit\u001b[49m\u001b[43m(\u001b[49m\u001b[43m)\u001b[49m\n\u001b[0;32m     20\u001b[0m underflow_limit \u001b[38;5;241m=\u001b[39m find_underflow_limit()\n\u001b[0;32m     22\u001b[0m \u001b[38;5;28mprint\u001b[39m(\u001b[38;5;124m\"\u001b[39m\u001b[38;5;124mApproximate overflow limit:\u001b[39m\u001b[38;5;124m\"\u001b[39m, overflow_limit)\n",
      "Input \u001b[1;32mIn [5]\u001b[0m, in \u001b[0;36mfind_overflow_limit\u001b[1;34m()\u001b[0m\n\u001b[0;32m      2\u001b[0m value \u001b[38;5;241m=\u001b[39m \u001b[38;5;241m1.0\u001b[39m\n\u001b[0;32m      3\u001b[0m \u001b[38;5;28;01mtry\u001b[39;00m:\n\u001b[1;32m----> 4\u001b[0m     \u001b[38;5;28;01mwhile\u001b[39;00m \u001b[38;5;28;01mTrue\u001b[39;00m:\n\u001b[0;32m      5\u001b[0m         value \u001b[38;5;241m*\u001b[39m\u001b[38;5;241m=\u001b[39m \u001b[38;5;241m2\u001b[39m  \u001b[38;5;66;03m# Double the value repeatedly\u001b[39;00m\n\u001b[0;32m      6\u001b[0m \u001b[38;5;28;01mexcept\u001b[39;00m \u001b[38;5;167;01mOverflowError\u001b[39;00m:\n",
      "\u001b[1;31mKeyboardInterrupt\u001b[0m: "
     ]
    }
   ],
   "source": [
    "def find_overflow_limit():\n",
    "    value = 1.0\n",
    "    try:\n",
    "        while True:\n",
    "            value *= 2  # Double the value repeatedly\n",
    "    except OverflowError:\n",
    "        pass  # Catch the overflow error when it occurs\n",
    "    return value\n",
    "\n",
    "\n",
    "def find_underflow_limit():\n",
    "    value = 1.0\n",
    "    while value != 0:  # Keep halving until underflow to zero\n",
    "        prev_value = value\n",
    "        value /= 2  # Halve the value repeatedly\n",
    "    return prev_value\n",
    "\n",
    "\n",
    "overflow_limit = find_overflow_limit()\n",
    "underflow_limit = find_underflow_limit()\n",
    "\n",
    "print(\"Approximate overflow limit:\", overflow_limit)\n",
    "print(\"Approximate underflow limit:\", underflow_limit)\n"
   ]
  },
  {
   "cell_type": "markdown",
   "metadata": {},
   "source": [
    "4\\. Write a program to determine the machine precision\n",
    "\n",
    "**Tips**: define a new variable by adding a smaller and smaller value (proceeding similarly to prob. 2) to an original variable and check the point where the two are the same "
   ]
  },
  {
   "cell_type": "code",
   "execution_count": null,
   "metadata": {},
   "outputs": [],
   "source": []
  },
  {
   "cell_type": "markdown",
   "metadata": {},
   "source": [
    "5\\. Write a function that takes in input three parameters $a$, $b$ and $c$ and prints out the two solutions to the quadratic equation $ax^2+bx+c=0$ using the standard formula:\n",
    "$$\n",
    "x=\\frac{-b\\pm\\sqrt{b^2-4ac}}{2a}\n",
    "$$\n",
    "\n",
    "(a) use the program to compute the solution for $a=0.001$, $b=1000$ and $c=0.001$\n",
    "\n",
    "(b) re-express the standard solution formula by multiplying top and bottom by $-b\\mp\\sqrt{b^2-4ac}$ and again find the solution for $a=0.001$, $b=1000$ and $c=0.001$. How does it compare with what previously obtained? Why?\n",
    "\n",
    "(c) write a function that compute the roots of a quadratic equation accurately in all cases"
   ]
  },
  {
   "cell_type": "code",
   "execution_count": null,
   "metadata": {},
   "outputs": [],
   "source": []
  },
  {
   "cell_type": "markdown",
   "metadata": {},
   "source": [
    "6\\. Write a program that implements the function $f(x)=x(x−1)$\n",
    "\n",
    "(a) Calculate the derivative of the function at the point $x = 1$ using the derivative definition:\n",
    "\n",
    "$$\n",
    "\\frac{{\\rm d}f}{{\\rm d}x} = \\lim_{\\delta\\to0} \\frac{f(x+\\delta)-f(x)}{\\delta}\n",
    "$$\n",
    "\n",
    "with $\\delta = 10^{−2}$. Calculate the true value of the same derivative analytically and compare with the answer your program gives. The two will not agree perfectly. Why not?\n",
    "\n",
    "(b) Repeat the calculation for $\\delta = 10^{−4}, 10^{−6}, 10^{−8}, 10^{−10}, 10^{−12}$ and $10^{−14}$. How does the accuracy scales with $\\delta$?"
   ]
  },
  {
   "cell_type": "code",
   "execution_count": null,
   "metadata": {},
   "outputs": [],
   "source": []
  },
  {
   "cell_type": "markdown",
   "metadata": {},
   "source": [
    "7\\. Consider the integral of the semicircle of radius 1:\n",
    "$$\n",
    "I=\\int_{-1}^{1} \\sqrt(1-x^2) {\\rm d}x\n",
    "$$\n",
    "which it's known to be $I=\\frac{\\pi}{2}=1.57079632679...$.\n",
    "Alternatively we can use the Riemann definition of the integral:\n",
    "$$\n",
    "I=\\lim_{N\\to\\infty} \\sum_{k=1}^{N} h y_k \n",
    "$$\n",
    "\n",
    "with $h=2/N$ the width of each of the $N$ slices the domain is divided into and where\n",
    "$y_k$ is the value of the function at the $k-$th slice.\n",
    "\n",
    "(a) Write a programe to compute the integral with $N=100$. How does the result compares to the true value?\n",
    "\n",
    "(b) How much can $N$ be increased if the computation needs to be run in less than a second? What is the gain in running it for 1 minute? \n"
   ]
  },
  {
   "cell_type": "code",
   "execution_count": null,
   "metadata": {},
   "outputs": [],
   "source": []
  }
 ],
 "metadata": {
  "kernelspec": {
   "display_name": "Python 3",
   "language": "python",
   "name": "python3"
  },
  "language_info": {
   "codemirror_mode": {
    "name": "ipython",
    "version": 3
   },
   "file_extension": ".py",
   "mimetype": "text/x-python",
   "name": "python",
   "nbconvert_exporter": "python",
   "pygments_lexer": "ipython3",
   "version": "3.10.4"
  }
 },
 "nbformat": 4,
 "nbformat_minor": 2
}
