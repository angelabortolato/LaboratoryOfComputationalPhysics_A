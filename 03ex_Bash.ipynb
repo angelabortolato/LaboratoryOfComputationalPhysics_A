{
 "cells": [
  {
   "cell_type": "markdown",
   "metadata": {},
   "source": [
    "The following exercises are meant to be solved by gathering the bash commands incrimentally in two scripts, one for ex 1.* the other for ex 2.* "
   ]
  },
  {
   "cell_type": "markdown",
   "metadata": {},
   "source": [
    "### Ex 1"
   ]
  },
  {
   "cell_type": "markdown",
   "metadata": {},
   "source": [
    "1\\.a Make a new directory called `students` in your home. Download a csv file with the list of students of this lab from [here](https://www.dropbox.com/s/867rtx3az6e9gm8/LCP_22-23_students.csv) (use the `wget` command) and copy that to `students`. First check whether the file is already there"
   ]
  },
  {
   "cell_type": "markdown",
   "metadata": {},
   "source": [
    "```bash\n",
    "\n",
    "#first go to home, then make dir\n",
    "cd $HOME\n",
    "mkdir students\n",
    "wget https://www.dropbox.com/s/867rtx3az6e9gm8/LCP_22-23_students.csv\n",
    "find ./students -name \"LCP_22-23_students.csv\"\n",
    "cp LCP_22-23_students.csv students/LCP_22-23_students.csv\n",
    "\n",
    "```"
   ]
  },
  {
   "cell_type": "markdown",
   "metadata": {},
   "source": [
    "1\\.b Make two new files, one containing the students belonging to PoD, the other to Physics."
   ]
  },
  {
   "cell_type": "markdown",
   "metadata": {},
   "source": [
    "```bash\n",
    "touch PoD_students.csv\n",
    "touch Physics_students.csv\n",
    "grep \"PoD\" LCP_22-23_students.csv > PoD_students.csv\n",
    "grep \"Physics\" LCP_22-23_students.csv > Physics_students.csv\n",
    "\n",
    "```"
   ]
  },
  {
   "cell_type": "markdown",
   "metadata": {},
   "source": [
    "1\\.c For each letter of the alphabet, count the number of students whose surname starts with that letter. "
   ]
  },
  {
   "cell_type": "markdown",
   "id": "e4ad5d13",
   "metadata": {},
   "source": [
    "```bash\n",
    "touch initials\n",
    "for i in {A..Z}\n",
    "do echo \"$i\">> initials\n",
    "grep -c \"^$i\" LCP_22-23_students.csv >> initials\n",
    "done\n",
    "\n",
    "```"
   ]
  },
  {
   "cell_type": "markdown",
   "metadata": {},
   "source": [
    "1\\.d Find out which is the letter with most counts."
   ]
  },
  {
   "cell_type": "markdown",
   "id": "6817f769",
   "metadata": {},
   "source": [
    "```bash\n",
    "\n",
    "letter=\"A\"\n",
    "count=0\n",
    "\n",
    "while read l\n",
    "\n",
    "do read c\n",
    "\n",
    "if [ $count -lt $c ]; then letter=$l; count=$c; fi\n",
    "\n",
    "done <initials\n",
    "\n",
    "echo \"Surname starting with $letter is with most counts ($count)\"\n",
    "```"
   ]
  },
  {
   "cell_type": "markdown",
   "metadata": {},
   "source": [
    "1\\.e Assume an obvious numbering of the students in the file (first line is 1, second line is 2, etc.), group students \"modulo 18\", i.e. 1,19,37,.. 2,20,38,.. etc. and put each group in a separate file  "
   ]
  },
  {
   "cell_type": "markdown",
   "id": "66973b74",
   "metadata": {},
   "source": [
    "```bash\n",
    "sed -i '1s/^/#/' LCP_22-23_students.csv \n",
    "touch allstud.csv\n",
    "grep -v \"^#\" LCP_22-23_students.csv > allstud.csv\n",
    "\n",
    "sed  '/./=' allstud.csv | sed  '/./N; s/\\n/ /' > nallstud.csv\n",
    "\n",
    "rm allstud.csv\n",
    "\n",
    "tot=$(grep -c -v \"^#\" LCP_22-23_students.csv)\n",
    "\n",
    "\n",
    "touch mod18_stud\n",
    "\n",
    "for i in $(seq 1 $tot) ;\n",
    "    do if (( i % 18 == 1)) ; then echo \"$i\"; grep \"^$i \" nallstud.csv >> mod18_stud ; fi ;\n",
    "done\n",
    "\n",
    "```"
   ]
  },
  {
   "cell_type": "markdown",
   "metadata": {},
   "source": [
    "### Ex 2"
   ]
  },
  {
   "cell_type": "markdown",
   "metadata": {},
   "source": [
    "2.a Make a copy of the file `data.csv` removing the metadata and the commas between numbers; call it `data.txt`"
   ]
  },
  {
   "cell_type": "markdown",
   "metadata": {},
   "source": [
    "```bash\n",
    "cp data.csv ./data.txt\n",
    "grep -v \"^#\" data.csv > data.txt\n",
    "sed -i 's/,//g' data.txt\n",
    "\n",
    "```"
   ]
  },
  {
   "cell_type": "markdown",
   "metadata": {},
   "source": [
    "2\\.b How many even numbers are there?"
   ]
  },
  {
   "cell_type": "markdown",
   "metadata": {},
   "source": [
    "```bash\n",
    "counter=0\n",
    "while read -r line; do for i in $line; do if [[ $i =~ ^-?[0-9]+$ ]]; then if (( i % 2 == 0 )); then  (( counter+=1 )) ; fi; fi ; done; done < data.txt\n",
    "\n",
    "echo \"$counter\"\n",
    "```\n"
   ]
  },
  {
   "cell_type": "markdown",
   "metadata": {},
   "source": [
    "2\\.c Distinguish the entries on the basis of `sqrt(X^2 + Y^2 + Z^2)` is greater or smaller than `100*sqrt(3)/2`. Count the entries of each of the two groups "
   ]
  },
  {
   "cell_type": "markdown",
   "metadata": {},
   "source": [
    "```bash\n",
    "th=$(echo \"100 * sqrt(3) / 2\" | bc -l)\n",
    "count_great=0\n",
    "count_small=0\n",
    "\n",
    "while read -r line; do \n",
    "    x=$(echo \"$line\" | cut -d' ' -f1)\n",
    "    y=$(echo \"$line\" | cut -d' ' -f2)\n",
    "    z=$(echo \"$line\" | cut -d' ' -f3)\n",
    "    distance=$(echo \"sqrt($x*$x + $y*$y + $z*$z)\" | bc -l) \n",
    "    if [ $(echo \"$distance >= $th\" | bc -l) -eq 1 ]; then (( count_great++ )); else (( count_small++ )); fi;  \n",
    "    done < data.txt\n",
    "\n",
    "echo \"Greater are $count_great\"\n",
    "echo \"Smaller are $count_small\"\n",
    "\n",
    "```\n"
   ]
  },
  {
   "cell_type": "markdown",
   "metadata": {},
   "source": [
    "2\\.d Make `n` copies of data.txt (with `n` an input parameter of the script), where the i-th copy has all the numbers divided by i (with `1<=i<=n`)."
   ]
  },
  {
   "cell_type": "markdown",
   "metadata": {},
   "source": [
    "```bash\n",
    "\n",
    "n=5\n",
    "\n",
    "for i in $(seq 1 $n)\n",
    "    do rm data_$i.txt\n",
    "    touch data_$i.txt\n",
    "    while read -r line \n",
    "        do for j in $line\n",
    "            do if [[ $j =~ ^-?[0-9]+$ ]]\n",
    "                then k=$( echo \"scale=3;$j/$i\" | bc )\n",
    "                echo \"$k\" >> data_$i.txt\n",
    "                fi\n",
    "        done\n",
    "        echo \"newline\" >> data_$i.txt\n",
    "    done < data.txt\n",
    "\n",
    "    sed -i ':a;N;$!ba;s/\\n/ /g' data_$i.txt\n",
    "    sed -i 's/newline/\\n/g' data_$i.txt\n",
    "\n",
    " done\n",
    " \n",
    "```"
   ]
  }
 ],
 "metadata": {
  "kernelspec": {
   "display_name": "Python 3",
   "language": "python",
   "name": "python3"
  },
  "language_info": {
   "codemirror_mode": {
    "name": "ipython",
    "version": 3
   },
   "file_extension": ".py",
   "mimetype": "text/x-python",
   "name": "python",
   "nbconvert_exporter": "python",
   "pygments_lexer": "ipython3",
   "version": "3.6.8"
  }
 },
 "nbformat": 4,
 "nbformat_minor": 5
}
